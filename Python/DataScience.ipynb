{
 "cells": [
  {
   "cell_type": "code",
   "execution_count": 1,
   "id": "aabef5aa",
   "metadata": {},
   "outputs": [
    {
     "name": "stdout",
     "output_type": "stream",
     "text": [
      "hi\n"
     ]
    }
   ],
   "source": [
    "print(\"hi\")"
   ]
  },
  {
   "cell_type": "code",
   "execution_count": 2,
   "id": "179a3ea9",
   "metadata": {},
   "outputs": [
    {
     "name": "stdout",
     "output_type": "stream",
     "text": [
      "{\"name\": \"Alice\", \"age\": 25, \"city\": \"New York\"}\n",
      "JSON data: {\"name\": \"Alice\", \"age\": 25, \"city\": \"New York\"}\n"
     ]
    }
   ],
   "source": [
    "import json\n",
    " \n",
    "data = {\"name\": \"Alice\", \"age\": 25, \"city\": \"New York\"}\n",
    "s = json.dumps(data)\n",
    "print(s)\n",
    "print(\"JSON data:\", s) "
   ]
  },
  {
   "cell_type": "code",
   "execution_count": null,
   "id": "4306d7f0",
   "metadata": {},
   "outputs": [],
   "source": [
    "print(\"hi again\")"
   ]
  },
  {
   "cell_type": "code",
   "execution_count": null,
   "id": "10dee326",
   "metadata": {},
   "outputs": [],
   "source": []
  }
 ],
 "metadata": {
  "kernelspec": {
   "display_name": "DataScience",
   "language": "python",
   "name": "python3"
  },
  "language_info": {
   "name": "python",
   "version": "3.13.5"
  }
 },
 "nbformat": 4,
 "nbformat_minor": 5
}
